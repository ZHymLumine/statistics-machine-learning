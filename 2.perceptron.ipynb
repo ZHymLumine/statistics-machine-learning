{
  "nbformat": 4,
  "nbformat_minor": 0,
  "metadata": {
    "colab": {
      "provenance": [],
      "collapsed_sections": [],
      "authorship_tag": "ABX9TyMWhgQv79hRXFGb9dj8FcuI",
      "include_colab_link": true
    },
    "kernelspec": {
      "name": "python3",
      "display_name": "Python 3"
    },
    "language_info": {
      "name": "python"
    }
  },
  "cells": [
    {
      "cell_type": "markdown",
      "metadata": {
        "id": "view-in-github",
        "colab_type": "text"
      },
      "source": [
        "<a href=\"https://colab.research.google.com/github/ZHymLumine/statistics-machine-learning/blob/main/2.perceptron.ipynb\" target=\"_parent\"><img src=\"https://colab.research.google.com/assets/colab-badge.svg\" alt=\"Open In Colab\"/></a>"
      ]
    },
    {
      "cell_type": "code",
      "execution_count": 1,
      "metadata": {
        "id": "5LGfL6xfEl53"
      },
      "outputs": [],
      "source": [
        "import pandas as pd\n",
        "import numpy as np\n",
        "from sklearn.datasets import load_iris\n",
        "import matplotlib.pyplot as plt\n",
        "%matplotlib inline"
      ]
    },
    {
      "cell_type": "code",
      "source": [
        "# load data\n",
        "iris = load_iris()\n",
        "df = pd.DataFrame(iris.data, columns=iris.feature_names)\n",
        "df['label'] = iris.target"
      ],
      "metadata": {
        "id": "lvisoOxREtO5"
      },
      "execution_count": 2,
      "outputs": []
    },
    {
      "cell_type": "code",
      "source": [
        "df.columns = [\n",
        "    'sepal length', 'sepal width', 'petal length', 'petal width', 'label'\n",
        "]\n",
        "df.label.value_counts()"
      ],
      "metadata": {
        "colab": {
          "base_uri": "https://localhost:8080/"
        },
        "id": "v3PX6ItlEwIP",
        "outputId": "106c23dc-39bb-4a81-e18e-a4a045f46b4f"
      },
      "execution_count": 3,
      "outputs": [
        {
          "output_type": "execute_result",
          "data": {
            "text/plain": [
              "0    50\n",
              "1    50\n",
              "2    50\n",
              "Name: label, dtype: int64"
            ]
          },
          "metadata": {},
          "execution_count": 3
        }
      ]
    },
    {
      "cell_type": "code",
      "source": [
        "plt.scatter(df[:50]['sepal length'], df[:50]['sepal width'], label='0')\n",
        "plt.scatter(df[50:100]['sepal length'], df[50:100]['sepal width'], label='1')\n",
        "plt.xlabel('sepal length')\n",
        "plt.ylabel('sepal width')\n",
        "plt.legend()"
      ],
      "metadata": {
        "colab": {
          "base_uri": "https://localhost:8080/",
          "height": 299
        },
        "id": "j5dwTbFPE0B9",
        "outputId": "73dc4aa5-1556-4a10-bb46-ac089c96ffe8"
      },
      "execution_count": 4,
      "outputs": [
        {
          "output_type": "execute_result",
          "data": {
            "text/plain": [
              "<matplotlib.legend.Legend at 0x7f0a2832c9d0>"
            ]
          },
          "metadata": {},
          "execution_count": 4
        },
        {
          "output_type": "display_data",
          "data": {
            "text/plain": [
              "<Figure size 432x288 with 1 Axes>"
            ],
            "image/png": "[encoded data removed]"
          },
          "metadata": {
            "needs_background": "light"
          }
        }
      ]
    },
    {
      "cell_type": "code",
      "source": [
        "data = np.array(df.iloc[:100, [0, 1, -1]])\n",
        "X, y = data[:,:-1], data[:,-1]\n",
        "y = np.array([1 if i == 1 else -1 for i in y])"
      ],
      "metadata": {
        "id": "Y_G-mkDmE3Wu"
      },
      "execution_count": 5,
      "outputs": []
    },
    {
      "cell_type": "markdown",
      "source": [
        "**Perceptron**"
      ],
      "metadata": {
        "id": "6Qe7qgxTE81x"
      }
    },
    {
      "cell_type": "code",
      "source": [
        "class Model:\n",
        "    def __init__(self):\n",
        "        self.w = np.ones(len(data[0]) - 1, dtype=np.float32)\n",
        "        self.b = 0\n",
        "        self.learning_rate = 0.1\n",
        "\n",
        "    def sign(self, x, w, b):\n",
        "        y = np.dot(x, w) + b\n",
        "        return y\n",
        "\n",
        "    def fit(self, X_train, y_train):\n",
        "        is_wrong = False;\n",
        "        while not is_wrong:\n",
        "            wrong_count = 0\n",
        "            for d in range(len(X_train)):\n",
        "                X = X_train[d]\n",
        "                y = y_train[d]\n",
        "                if y * self.sign(X, self.w, self.b) <= 0:\n",
        "                    self.w = self.w + self.learning_rate * np.dot(y, X)\n",
        "                    self.b = self.b + self.learning_rate * y;\n",
        "                    wrong_count += 1\n",
        "            if wrong_count == 0:\n",
        "                is_wrong = True\n",
        "        return 'Perceptron Model!'\n",
        "      \n",
        "      \n",
        "    def score(self):\n",
        "          pass"
      ],
      "metadata": {
        "id": "qeuvkSPJFCRl"
      },
      "execution_count": 23,
      "outputs": []
    },
    {
      "cell_type": "code",
      "source": [
        "perceptron = Model()\n",
        "perceptron.fit(X, y)"
      ],
      "metadata": {
        "colab": {
          "base_uri": "https://localhost:8080/",
          "height": 35
        },
        "id": "utTP5TvmhyZA",
        "outputId": "7471e069-67e8-4bd1-a82b-474b0b7ae12f"
      },
      "execution_count": 24,
      "outputs": [
        {
          "output_type": "execute_result",
          "data": {
            "text/plain": [
              "'Perceptron Model!'"
            ],
            "application/vnd.google.colaboratory.intrinsic+json": {
              "type": "string"
            }
          },
          "metadata": {},
          "execution_count": 24
        }
      ]
    },
    {
      "cell_type": "code",
      "source": [
        "x_points = np.linspace(4, 7, 10)\n",
        "print(x_points)\n",
        "y_ = -(perceptron.w[0] * x_points + perceptron.b) / perceptron.w[1]\n",
        "print(y_)\n",
        "plt.plot(x_points, y_)\n",
        "\n",
        "plt.plot(data[:50, 0], data[:50, 1], 'bo', color='blue', label='0')\n",
        "plt.plot(data[50:100, 0], data[50:100, 1], 'bo', color='orange', label='1')\n",
        "plt.xlabel('sepal length')\n",
        "plt.ylabel('sepal width')\n",
        "plt.legend()"
      ],
      "metadata": {
        "colab": {
          "base_uri": "https://localhost:8080/",
          "height": 350
        },
        "id": "5p7hYDj5iAlF",
        "outputId": "1cdf559b-54bf-4630-d838-0f9f525f4da5"
      },
      "execution_count": 31,
      "outputs": [
        {
          "output_type": "stream",
          "name": "stdout",
          "text": [
            "[4.         4.33333333 4.66666667 5.         5.33333333 5.66666667\n",
            " 6.         6.33333333 6.66666667 7.        ]\n",
            "[1.91 2.17 2.43 2.69 2.95 3.21 3.47 3.73 3.99 4.25]\n"
          ]
        },
        {
          "output_type": "execute_result",
          "data": {
            "text/plain": [
              "<matplotlib.legend.Legend at 0x7f0a0e8e5b10>"
            ]
          },
          "metadata": {},
          "execution_count": 31
        },
        {
          "output_type": "display_data",
          "data": {
            "text/plain": [
              "<Figure size 432x288 with 1 Axes>"
            ],
            "image/png": "[encoded data removed]"
          },
          "metadata": {
            "needs_background": "light"
          }
        }
      ]
    }
  ]
}